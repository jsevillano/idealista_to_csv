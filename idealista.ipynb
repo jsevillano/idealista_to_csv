{
 "cells": [
  {
   "cell_type": "code",
   "execution_count": 6,
   "metadata": {},
   "outputs": [],
   "source": [
    "\n",
    "from bs4 import BeautifulSoup\n",
    "import re\n",
    "import time\n",
    "\n"
   ]
  },
  {
   "cell_type": "code",
   "execution_count": 7,
   "metadata": {},
   "outputs": [],
   "source": [
    "###chromedriver must be first downloaded from here\n",
    "###http://chromedriver.storage.googleapis.com/index.html?path=2.43/\n",
    "\n",
    "from selenium import webdriver\n",
    "from selenium.webdriver.common.keys import Keys\n",
    "### point the webdriver to the location where you downloaded the driver\n",
    "browser = webdriver.Chrome(\"/home/javiersevillano/Descargas/webdrivers/chromedriver\")\n",
    "type(browser)\n",
    "url=\"https://www.idealista.com/\"\n",
    "browser.get(url)"
   ]
  },
  {
   "cell_type": "code",
   "execution_count": 8,
   "metadata": {},
   "outputs": [],
   "source": [
    "#give time to load the page\n",
    "time.sleep(3)"
   ]
  },
  {
   "cell_type": "code",
   "execution_count": 9,
   "metadata": {},
   "outputs": [
    {
     "name": "stdout",
     "output_type": "stream",
     "text": [
      "Found <Acceso usuarios> element with that id name!\n"
     ]
    }
   ],
   "source": [
    "##lets find and access the login page\n",
    "id=\"your-account\"  ### element for the log in\n",
    "##browser.find_element_by_id(id)\n",
    "try:\n",
    "    login = browser.find_element_by_id(id)\n",
    "    print('Found <%s> element with that id name!' % (login.text))\n",
    "except:\n",
    "    print('Was not able to find an element with that name.')\n",
    "login.click()"
   ]
  },
  {
   "cell_type": "code",
   "execution_count": null,
   "metadata": {},
   "outputs": [],
   "source": [
    "###lets find and fill the login credentials\n",
    "my_email= input('user email')\n",
    "id=\"email\"\n",
    "email_elem = browser.find_element_by_id(id)\n",
    "email_elem.tag_name\n",
    "email_elem.clear()\n",
    "email_elem.send_keys(my_email)"
   ]
  },
  {
   "cell_type": "code",
   "execution_count": null,
   "metadata": {},
   "outputs": [],
   "source": [
    "pwd=input('user pwd')\n",
    "id=\"pwd\"\n",
    "pwd_elem = browser.find_element_by_name(id)\n",
    "pwd_elem.tag_name\n",
    "pwd_elem.clear()\n",
    "pwd_elem.send_keys(pwd)"
   ]
  },
  {
   "cell_type": "code",
   "execution_count": null,
   "metadata": {},
   "outputs": [],
   "source": [
    "### press the login button\n",
    "##lets find and access the login page\n",
    "\n",
    "id=\"doLogin\"  ### element for the log in\n",
    "##browser.find_element_by_id(id)\n",
    "try:\n",
    "    login = browser.find_element_by_id(id)\n",
    "    print('Found <%s> element with that id name!' % (login.text))\n",
    "except:\n",
    "    print('Was not able to find an element with that name.')\n",
    "login.click()"
   ]
  },
  {
   "cell_type": "code",
   "execution_count": 10,
   "metadata": {},
   "outputs": [
    {
     "name": "stdout",
     "output_type": "stream",
     "text": [
      "Tus favoritos\n"
     ]
    }
   ],
   "source": [
    "#### press the button in favourires\n",
    "favoritos=browser.find_element_by_xpath(\"//a[contains(@href, 'favoritos')]\")\n",
    "print(favoritos.text)\n",
    "favoritos.click()"
   ]
  },
  {
   "cell_type": "code",
   "execution_count": 11,
   "metadata": {},
   "outputs": [
    {
     "name": "stdout",
     "output_type": "stream",
     "text": [
      "<!DOCTYPE html>\n",
      "<!--[if IE 8]><html class=\"ie8\" lang=\"es\" env=\"es\" username=\"Sara Serrano Moreno\"><![endif]-->\n",
      "<!--[if IE 9]><html class=\"ie9\" lang=\"es\" env=\"es\" username=\"Sara Serrano Moreno\"><![endi\n"
     ]
    }
   ],
   "source": [
    "res=browser.page_source\n",
    "soup=BeautifulSoup(res, \"lxml\")\n",
    "print(soup.prettify()[:200])"
   ]
  },
  {
   "cell_type": "code",
   "execution_count": 12,
   "metadata": {},
   "outputs": [],
   "source": [
    "with open(\"/home/javiersevillano/Documentos/Testing Jup Lab/idealista.txt\",'w') as f:\n",
    "    f.write(soup.prettify())"
   ]
  },
  {
   "cell_type": "code",
   "execution_count": 13,
   "metadata": {},
   "outputs": [],
   "source": [
    "def extract_flat(flat):\n",
    "    my_flat={}\n",
    "    #check if it is actually a flat\n",
    "    if len(flat.select(\".logo-container\"))>0:\n",
    "        return None\n",
    "    else:\n",
    "        ## gets the title and the href\n",
    "        fav_icon=flat.select(\".icon-fav\")[0]\n",
    "        my_flat['href']=fav_icon.get('href')\n",
    "        my_flat['inmueble']=fav_icon.get('href')\n",
    "        my_flat['inmueble']=re.search('(?<=inmueble/)\\d+',my_flat['inmueble']).group(0)\n",
    "        my_flat['href_comp']=\"https://www.idealista.com\"+my_flat['href']\n",
    "        my_flat['title']=fav_icon.get('title')\n",
    "        \n",
    "        ## gets the price row\n",
    "        prices=flat.select(\".price-row\")\n",
    "        my_flat['price']=prices[0].select(\".item-price\")[0].getText()\n",
    "        \n",
    "        other_info_price=[i.getText() for i in prices]\n",
    "        my_flat['ext_price']=\" \".join(other_info_price)\n",
    "        \n",
    "        ## gets the details\n",
    "        details=[i.getText() for i in flat.select(\".item-detail\")]\n",
    "        my_flat['detail']=\" \".join(details)\n",
    "        \n",
    "        #isolating details\n",
    "        for i in details:\n",
    "            if \"hab.\" in i: #search habitaciones\n",
    "                my_flat['habs']=re.search(\"\\d+\",i).group(0)\n",
    "            if \"m\"+u\"\\u00B2\" in i: #search metros2 \n",
    "                my_flat['metros']=re.search(\"\\d+\",i).group(0)\n",
    "            if \"planta\" in i: #search metros2 \n",
    "                my_flat['Edificio']=re.search(\".+planta\",i).group(0)\n",
    "                my_flat['Edificio otros']=re.search(\"(?<=planta ).+\",i).group(0)\n",
    "        #webdriver.ActionChains(browser).key_down(Keys.CONTROL).send_keys('T').perform()\n",
    "        url2=my_flat['href_comp']\n",
    "        #browser.execute_script(\"window.open('https://www.google.com');\")\n",
    "        #browser.execute_script(\"window.open('\"+url2+\"')\")\n",
    "        browser.get(url2)\n",
    "        flat_soup=BeautifulSoup(browser.page_source, \"lxml\")\n",
    "        items=flat_soup.select(\".details-property_features > ul > li\")\n",
    "        otros=[i.getText() for i in items]\n",
    "        my_flat['otros detalles']=\"\\n\".join(otros)\n",
    "            \n",
    "        #print(x)\n",
    "        time.sleep(0.5)\n",
    "        browser.back()\n",
    "        print(my_flat['inmueble'],\"..............\",my_flat['title'])\n",
    "        return my_flat\n",
    "    \n",
    "        \n",
    "favs=soup.select('.item-info-container')\n",
    "#print(favs)"
   ]
  },
  {
   "cell_type": "code",
   "execution_count": null,
   "metadata": {},
   "outputs": [],
   "source": [
    "extract_flat(favs[0])"
   ]
  },
  {
   "cell_type": "code",
   "execution_count": 14,
   "metadata": {},
   "outputs": [
    {
     "name": "stdout",
     "output_type": "stream",
     "text": [
      "82784921 .............. Piso en Acacias, Madrid\n",
      "82792863 .............. Piso en calle de Las Naves, Madrid, Acacias, Madrid\n",
      "82763185 .............. Piso en paseo de la Chopera, 9, Chopera, Madrid\n",
      "82755932 .............. Piso en calle Labrador, 26, Acacias, Madrid\n",
      "82742114 .............. Piso en calle de Las Naves, Madrid, 19, Acacias, Madrid\n",
      "82752481 .............. Piso en paseo de Santa María de la Cabeza, Madrid, Chopera, Madrid\n",
      "82751769 .............. Piso en plaza de las Peñuelas, Madrid, Acacias, Madrid\n",
      "82293924 .............. Piso en paseo de la Chopera, Chopera, Madrid\n",
      "82310775 .............. Piso en arganda, Acacias, Madrid\n",
      "82607613 .............. Piso en Acacias, Madrid\n",
      "82533442 .............. Piso en Acacias, Madrid\n",
      "82720458 .............. Piso en Acacias, Madrid\n",
      "82447908 .............. Piso en calle de Arganda, Acacias, Madrid\n",
      "82647778 .............. Piso en calle de Toledo, 153, Acacias, Madrid\n",
      "82647706 .............. Piso en paseo de las Yeserías, 31, Acacias, Madrid\n",
      "82625691 .............. Piso en paseo de Santa María de la Cabeza, Madrid, Chopera, Madrid\n",
      "26757303 .............. Piso en calle de Aguilon, 17, Chopera, Madrid\n",
      "82618352 .............. Piso en Chopera, Madrid\n",
      "82306649 .............. Piso en ronda Toledo, 38, Acacias, Madrid\n",
      "81930273 .............. Piso en calle Laurel, Madrid, 18, Acacias, Madrid\n",
      "82605798 .............. Piso en calle de las Peñuelas, 43, Acacias, Madrid\n",
      "82587355 .............. Piso en paseo de los Pontones, Madrid, Imperial, Madrid\n",
      "82485866 .............. Piso en calle del Gasómetro, Madrid, Acacias, Madrid\n",
      "82550135 .............. Piso en calle de Las Naves, Acacias, Madrid\n",
      "82568940 .............. Piso en calle de Toledo, Imperial, Madrid\n",
      "82475616 .............. Piso en paseo de la Chopera, 3, Chopera, Madrid\n",
      "82493698 .............. Piso en Acacias, Madrid\n",
      "82351030 .............. Piso en paseo de las Acacias, Madrid, Acacias, Madrid\n",
      "81755101 .............. Piso en Acacias, Madrid\n",
      "82363890 .............. Piso en paseo de los Olmos, Madrid, Acacias, Madrid\n"
     ]
    }
   ],
   "source": [
    "all_flats=[]\n",
    "for x in favs:\n",
    "    all_flats.append(extract_flat(x))\n",
    "    "
   ]
  },
  {
   "cell_type": "code",
   "execution_count": 15,
   "metadata": {},
   "outputs": [],
   "source": [
    "import pandas as pd"
   ]
  },
  {
   "cell_type": "code",
   "execution_count": 16,
   "metadata": {},
   "outputs": [],
   "source": [
    "all_flats=[x for x in all_flats if x!=None]\n"
   ]
  },
  {
   "cell_type": "code",
   "execution_count": 18,
   "metadata": {},
   "outputs": [
    {
     "data": {
      "text/plain": [
       "Index(['Edificio', 'Edificio otros', 'detail', 'ext_price', 'habs', 'href',\n",
       "       'href_comp', 'inmueble', 'metros', 'otros detalles', 'price', 'title'],\n",
       "      dtype='object')"
      ]
     },
     "execution_count": 18,
     "metadata": {},
     "output_type": "execute_result"
    }
   ],
   "source": [
    "df=pd.DataFrame(all_flats)\n",
    "df.columns"
   ]
  },
  {
   "cell_type": "code",
   "execution_count": 21,
   "metadata": {},
   "outputs": [],
   "source": [
    "order=['inmueble','title','price','habs','metros','ext_price','detail','otros detalles', 'href_comp']\n",
    "df=df[order]"
   ]
  },
  {
   "cell_type": "code",
   "execution_count": 22,
   "metadata": {},
   "outputs": [],
   "source": [
    "df.to_csv('~/pisos_idealista.csv')\n"
   ]
  },
  {
   "cell_type": "code",
   "execution_count": 24,
   "metadata": {},
   "outputs": [
    {
     "name": "stdout",
     "output_type": "stream",
     "text": [
      "{'href': '/inmueble/82784921/', 'title': 'Piso en Acacias, Madrid', 'price': '580.000€', 'ext_price': ' 580.000€ Garaje incluido ', 'detail': '3 hab. 110 m² 2ª planta exterior con ascensor', 'habs': '3', 'metros': '110', 'planta': '2ª planta', 'planta otros': 'exterior con ascensor'}\n"
     ]
    },
    {
     "data": {
      "text/plain": [
       "<div class=\"item-info-container\"> <div class=\"logo-branding\"> <a href=\"/pro/engel-volkers-madrid/\"> <div class=\"logo-border\"></div> <img class=\" show\" data-ondemand-img=\"https://st3.idealista.com/20/d7/c3/engel-volkers-madrid.gif\" src=\"https://st3.idealista.com/20/d7/c3/engel-volkers-madrid.gif\"/> </a> </div> <a class=\"item-link icon-fav\" href=\"/inmueble/82784921/\" title=\"Piso en Acacias, Madrid\"> Piso en Acacias, Madrid </a> <div class=\"row price-row clearfix\"> <span class=\"item-price h2-simulated\">580.000<span>€</span></span> <span>Garaje incluido</span> </div> <span class=\"item-detail\">3 <small>hab.</small></span> <span class=\"item-detail\">110 <small>m²</small></span> <span class=\"item-detail\">2ª <small>planta exterior con ascensor</small></span> <div class=\"item-description description\" style=\"\"><p class=\"ellipsis\" style=\"display: block;\">Esta magnífica vivienda que Engel&amp;Völkers presenta en urbanización privada se encuentra ubicado en el barrio de Acacias. Al entrar en la vivienda, desde el recibidor podemos acceder al salón-comedor siendo independiente con una gran luz natural todo el día al tener un amplio ventanal, a la coci...</p></div> <div class=\"item-toolbar clearfix\"> <div class=\"item-toolbar-contact\"> <span class=\"icon-phone item-not-clickable-phone\">914 892 842</span> <a class=\"icon-phone phone-btn item-clickable-phone\" data-xiti-markup='{ \"click\" : {\"xtPage\":\"tus-favoritos::conversiones::Contacto-por-telf\",\"mustXtn2\":true,\"actionType\":\"PAGE\"}}' data-xiti-page=\"telf_particular_v\" href=\"tel:914892842\" target=\"_blank\"> <span>914 892 842</span> </a> <button class=\"icon-mail email-btn action-email fake-anchor\" data-xiti-page=\"tus-favoritos::conversiones::form_contacto\" data-xiti-shared-n2=\"true\"><span>Contactar</span></button> <button class=\"icon-edit action-note fake-anchor\"><span>Nota personal</span></button> </div> <div class=\"item-toolbar-actions\"> <button class=\"icon-edit action-note fake-anchor\"></button> <button class=\"icon-fav-remove favorite-btn action-fav fake-anchor\" data-role=\"remove\" data-text-add=\"Guardar\" data-text-remove=\"Quitar\"> <span>Guardar</span> </button> </div> </div> </div>"
      ]
     },
     "execution_count": 24,
     "metadata": {},
     "output_type": "execute_result"
    }
   ],
   "source": [
    "\n",
    "#extract_flat(favs[0])\n",
    "#favs[0]"
   ]
  },
  {
   "cell_type": "code",
   "execution_count": null,
   "metadata": {},
   "outputs": [],
   "source": []
  }
 ],
 "metadata": {
  "kernelspec": {
   "display_name": "Python 3",
   "language": "python",
   "name": "python3"
  },
  "language_info": {
   "codemirror_mode": {
    "name": "ipython",
    "version": 3
   },
   "file_extension": ".py",
   "mimetype": "text/x-python",
   "name": "python",
   "nbconvert_exporter": "python",
   "pygments_lexer": "ipython3",
   "version": "3.6.5"
  }
 },
 "nbformat": 4,
 "nbformat_minor": 2
}
